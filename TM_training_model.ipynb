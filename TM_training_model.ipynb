{
  "nbformat": 4,
  "nbformat_minor": 0,
  "metadata": {
    "colab": {
      "name": "TM-training_model.ipynb",
      "provenance": [],
      "collapsed_sections": []
    },
    "kernelspec": {
      "name": "python3",
      "display_name": "Python 3"
    },
    "language_info": {
      "name": "python"
    }
  },
  "cells": [
    {
      "cell_type": "markdown",
      "metadata": {
        "id": "39M9KYzRUXXF"
      },
      "source": [
        "### Data and dependencies"
      ]
    },
    {
      "cell_type": "code",
      "metadata": {
        "id": "Y04QI5_ISORp"
      },
      "source": [
        "#importing libraries\n",
        "import tensorflow as tf\n",
        "import numpy as np\n",
        "import keras \n",
        "import matplotlib.pyplot as plt\n",
        "import seaborn as sns"
      ],
      "execution_count": null,
      "outputs": []
    },
    {
      "cell_type": "code",
      "metadata": {
        "id": "rkUbIeNOS8ku"
      },
      "source": [
        "#loading dataset arrays\n",
        "#fonction pour importer les données préalablement sauvées dans Drive\n",
        "loaded = np.load('/content/drive/MyDrive/TM/jupyter/datasets/TM_dataset_10k.npz') \n",
        "\n",
        "array1 = loaded['array1_drm']\n",
        "array2 = loaded['array2_pia']\n",
        "array3 = loaded['array3_gtr']\n",
        "array4 = loaded['array4_bss']"
      ],
      "execution_count": null,
      "outputs": []
    },
    {
      "cell_type": "code",
      "metadata": {
        "id": "cUwy4pouiAwc"
      },
      "source": [
        "# sépare la matrice de la batterie en ses 3 composantes\n",
        "array1_1=array1[:,:,:9]     # notes         [0,1]       (multi-hot encoding)\n",
        "array1_2=array1[:,:,9:18]   # velocities    [0,1]       (regression)\n",
        "array1_3=array1[:,:,18:27]  # time offsets  [-0.5,0.5[  (regression)"
      ],
      "execution_count": null,
      "outputs": []
    },
    {
      "cell_type": "code",
      "metadata": {
        "id": "UAbAUb0d18Sy"
      },
      "source": [
        "def decoder_input_arrays(array_): \n",
        "    \"\"\"fonction pour préparer les inputs du décodeur. Étant donné que j'utilise la méthode\n",
        "        de Teacher-forcing, je 'feed' au décodeur à chaque le pas précédent correct, à la\n",
        "        place du pas précédent généré (souvent faux au début de l'entraînement)\"\"\"\n",
        "    array=np.copy(array_)\n",
        "    for batch in range(array.shape[0]):\n",
        "        padded = np.pad(array[batch],((1,0),(0,0)))\n",
        "        for t in range(array.shape[1]):\n",
        "            for i in range(array.shape[2]):\n",
        "                array[batch,t,i]=padded[t,i]\n",
        "    return array"
      ],
      "execution_count": null,
      "outputs": []
    },
    {
      "cell_type": "code",
      "metadata": {
        "id": "AbQnMu0C2HyH"
      },
      "source": [
        "array1_4=decoder_input_arrays(array1_1)\n",
        "array1_5=decoder_input_arrays(array1_2)\n",
        "array1_6=decoder_input_arrays(array1_3)"
      ],
      "execution_count": null,
      "outputs": []
    },
    {
      "cell_type": "markdown",
      "metadata": {
        "id": "4oafR4wnUPca"
      },
      "source": [
        "# Model\n"
      ]
    },
    {
      "cell_type": "markdown",
      "metadata": {
        "id": "fR2cc4QrVE7x"
      },
      "source": [
        "> ## Defining the model"
      ]
    },
    {
      "cell_type": "code",
      "metadata": {
        "id": "GTz0cqjnS8mk"
      },
      "source": [
        "###Hyperparamètres du modèle\n",
        "\n",
        "#units\n",
        "units1_1,units1_2,units1_3 = 200,200,200\n",
        "units2 = 500 \n",
        "latent_units = 256\n",
        "units3_1, units3_2 = 256,256\n",
        "#training hyperparameters\n",
        "epochs=100\n",
        "batch_size=64 #taille des échantillons\n",
        "\n",
        "mse = keras.losses.MeanSquaredError() # erreur quadratique moyenne, utilisée ensuite pour les vélocités et le micro-timg\n",
        "precision_at_recall = keras.metrics.PrecisionAtRecall(0.7)\n",
        "# indicateur de perfomance mesurant la précison (PPV) du modèle pour un rappel donné (70%)\n",
        "#-> mesure la proportion de faux positifs sur les premiers 70% des notes positives (en partant du haut (1))\n",
        "\n",
        "val_ratio = 0.25 # percent of samples used for validation and not seen before by the model\n",
        "dataset_ratio = 1  # while testing, it can be useful to use a smaller dataset for runtime's sake"
      ],
      "execution_count": null,
      "outputs": []
    },
    {
      "cell_type": "code",
      "metadata": {
        "id": "KjBvATdUhoa5"
      },
      "source": [
        "# fonction d'erreur personnalisée pour les notes\n",
        "# J'ai fait plusieurs variantes (dont je visualisais le courbes avec geogebra).\n",
        "# J'ai testé divers fonctions, \n",
        "    # certaines plus ou moins aggressives sur des prédictions lointaines,\n",
        "    # ou avec différents coefficients entre l'erreur des notes positives et des notes négatives \n",
        "def weighted_crossentropy_2(y_true,y_pred): \n",
        "    return y_true * -keras.backend.log(y_pred) * 3 * (1-y_pred)*2 + (1 - y_true) * -keras.backend.log(1 - y_pred) * y_pred*2"
      ],
      "execution_count": null,
      "outputs": []
    },
    {
      "cell_type": "code",
      "metadata": {
        "colab": {
          "base_uri": "https://localhost:8080/"
        },
        "id": "aS39KGMeS8pV",
        "outputId": "0665b349-4fbe-40b2-e229-1f5eea826b5b"
      },
      "source": [
        "# Préparation des datasets entrée et cible, pour l'entraînement et l'évaluation\n",
        "\n",
        "# reshaping datasets to multiples of batch size:\n",
        "length=array2.shape[0]\n",
        "print(length)\n",
        "\n",
        "length *= dataset_ratio\n",
        "\n",
        "#-- train data\n",
        "x=length*(1-val_ratio)\n",
        "n=int(x-(x%batch_size))\n",
        "\n",
        "inputs= [array2[:n],array3[:n],array4[:n],array1_4[:n],array1_5[:n],array1_6[:n]]\n",
        "targets=[array1_1[:n],array1_2[:n],array1_3[:n]]\n",
        "\n",
        "#--- validation data\n",
        "x=length*val_ratio\n",
        "m=int(x-(x%batch_size))\n",
        "\n",
        "val_inputs= [array2[n:n+m],array3[n:n+m],array4[n:n+m],array1_4[n:n+m],array1_5[n:n+m],array1_6[n:n+m]]\n",
        "val_targets=[array1_1[n:n+m],array1_2[n:n+m],array1_3[n:n+m]]\n",
        "\n",
        "print(inputs[0].shape)\n",
        "print(f'{int(n/batch_size)} batches')\n",
        "print(val_inputs[0].shape)\n",
        "print(f'{int(m/batch_size)} batches')"
      ],
      "execution_count": null,
      "outputs": [
        {
          "output_type": "stream",
          "text": [
            "10000\n",
            "(7488, 128, 128)\n",
            "117 batches\n",
            "(2496, 128, 128)\n",
            "39 batches\n"
          ],
          "name": "stdout"
        }
      ]
    },
    {
      "cell_type": "code",
      "metadata": {
        "id": "MGSRCJ6W1Joc"
      },
      "source": [
        "# Couches personnalisées\n",
        "# elles me permettent d'avoir une architecture originale\n",
        "# et de pouvoir diverger des fonctions 'high-level' mises à disposition par Keras\n",
        "\n",
        "class Sampling(keras.layers.Layer):\n",
        "    \"\"\"couche qui s'occupe d'échantillonner z avec les paramètres de distributions (z_mean, z_log_var) \"\"\"\n",
        "    def call(self,inputs):\n",
        "        z_mean,z_log_var=inputs\n",
        "        batch = tf.shape(z_mean)[0]\n",
        "        dim = tf.shape(z_mean)[1]\n",
        "        epsilon = keras.backend.random_normal(shape=(batch,dim))\n",
        "        return z_mean + tf.exp(0.5*z_log_var) * epsilon\n",
        "\n",
        "class KL_Divergence(keras.layers.Layer):\n",
        "    \"\"\"cette couche calcule l'erreur de la partie VIB du modèle\n",
        "        elle utilise la 'Kullback-Leibler Divergence' pour évaluer l'espace latent,\n",
        "        et rajoute l'erreur au modèle à travers la fonction add_loss() intégrée de keras\"\"\"\n",
        "    def call(self,inputs):\n",
        "        z_mean,z_log_var=inputs\n",
        "        return -0.5 * tf.reduce_mean(z_log_var - tf.square(z_mean) - tf.exp(z_log_var) + 1) # KL div. loss\n",
        "\n",
        "class ConductorRNN(keras.layers.Layer):\n",
        "    \"\"\"couche supérieure du décodeur hiérarchique, inspiré du décodeur inédit de MusicVAE\"\"\"\n",
        "    def __init__(self,units=256,name='conductorRNN',has_splits=True,num_splits=4,**kwargs):\n",
        "        super(ConductorRNN,self).__init__(name=name,**kwargs)\n",
        "        self.num_splits=num_splits\n",
        "        self.lstm_cell = layers.LSTMCell(units)\n",
        "        self.split_length=int(128/num_splits)\n",
        "    def call(self,x):\n",
        "        predictions=[]\n",
        "        state=self.lstm_cell.get_initial_state(x)\n",
        "        for i in range(self.num_splits):\n",
        "            x,state = self.lstm_cell(x,states=state)\n",
        "            predictions.append(x)\n",
        "        return predictions\n",
        "        #return tf.stack(predictions) # for when we want a 3D output Tensor instead of a python list\n",
        "class RNN_Helper(keras.layers.Layer):\n",
        "    # i created this to clean off the input preparation following the conductorRNN output\n",
        "    # it was messing up the graphs and making them unreadable due to too many instances of RepeatVector and Concatenate\n",
        "    def __init__(self,split_length=32,name='helper'):\n",
        "        super(RNN_Helper,self).__init__(name=name)\n",
        "        self.repeat = layers.RepeatVector(split_length)\n",
        "        self.concat = layers.Concatenate(axis=2)\n",
        "    def call(self,inputs):\n",
        "        dec_input,c=inputs\n",
        "        return self.concat([dec_input,self.repeat(c)])\n",
        "\n",
        "\n",
        "class State_Embedder(keras.layers.Layer):\n",
        "    \"\"\"couche qui initialise \"l'état\" du décodeur inférieur à chaque sous-séquence avec le vecteur conducteur correspondant\"\"\"\n",
        "    def __init__(self,units=256,name='state_Embedder',**kwargs):\n",
        "        super(State_Embedder,self).__init__(name=name,**kwargs)\n",
        "        self.dense=layers.Dense(units*2,activation='tanh')\n",
        "    def call(self,c):\n",
        "        c=self.dense(c)\n",
        "        return tf.split(c,2,axis=1)\n",
        "\n",
        "class Input_Splitter(keras.layers.Layer):\n",
        "    \"\"\"couche qui ne sert qu'à faciliter le traitement de données (tout comme HelperRNN)\"\"\"\n",
        "    def __init__(self,num_splits=4):\n",
        "        super(Input_Splitter,self).__init__()\n",
        "        self.num_splits=num_splits\n",
        "    def call(self,input):\n",
        "        return tf.split(input,num_splits,axis=1)"
      ],
      "execution_count": null,
      "outputs": []
    },
    {
      "cell_type": "code",
      "metadata": {
        "colab": {
          "base_uri": "https://localhost:8080/",
          "height": 1000
        },
        "id": "AxpkSlSIpR63",
        "outputId": "47c6e612-b15f-4a7f-80e2-b2a7ec00d5bd"
      },
      "source": [
        "#model\n",
        "from keras import layers\n",
        "from keras.layers import LSTM\n",
        "from keras.layers import TimeDistributed as TD\n",
        "from keras.layers import Bidirectional as BD\n",
        "from keras.layers import Input\n",
        "\n",
        "    ###ENCODER\n",
        "# inputs\n",
        "input_layer1 = Input(shape=(128,128),batch_size=batch_size,name='input1')\n",
        "input_layer2 = Input(shape=(128,128),batch_size=batch_size,name='input2')\n",
        "input_layer3 = Input(shape=(128,128),batch_size=batch_size,name='input3')\n",
        "\n",
        "model_encoder_inputs=[input_layer1,input_layer2,input_layer3]\n",
        "\n",
        "# Bidirectional CNN-LSTM for each instrument \n",
        "conv_layer1_1= layers.Conv1D(filters=32,kernel_size=4,strides=4)(input_layer1) \n",
        "conv_layer1_2= layers.Conv1D(filters=64,kernel_size=4,strides=2)(conv_layer1_1) \n",
        "\n",
        "conv_layer2_1= layers.Conv1D(filters=32,kernel_size=4,strides=4)(input_layer2) \n",
        "conv_layer2_2= layers.Conv1D(filters=64,kernel_size=4,strides=2)(conv_layer2_1) \n",
        "\n",
        "conv_layer3_1= layers.Conv1D(filters=32,kernel_size=4,strides=4)(input_layer3) \n",
        "conv_layer3_2= layers.Conv1D(filters=64,kernel_size=4,strides=2)(conv_layer3_1) \n",
        "\n",
        "layer1_1 = BD(LSTM(units1_1),name='layer1_1')(conv_layer1_2)\n",
        "layer1_2 = BD(LSTM(units1_2),name='layer1_2')(conv_layer2_2)\n",
        "layer1_3 = BD(LSTM(units1_3),name='layer1_3')(conv_layer3_2)\n",
        "\n",
        "#we now merge everything together and feed it to layer2 \n",
        "concat_layer = layers.Concatenate(axis=1)([layer1_1,layer1_2,layer1_3])\n",
        "layer2 = layers.Dense(units2,activation='tanh',name='layer2')(concat_layer)\n",
        "\n",
        "# VIB (Variational Information Bottleneck)\n",
        "z_mean = layers.Dense(latent_units,name='mean')(layer2)       # means \n",
        "z_log_var = layers.Dense(latent_units,name='log_var')(layer2) # covariance matrices\n",
        "z = Sampling()([z_mean,z_log_var])\n",
        "\n",
        "####################################\n",
        "\n",
        "    ###DECODER\n",
        "#inputs for the teacher-forced bottom-level RNN decoder\n",
        "model_decoder_input1 = Input(shape=(128,9),batch_size=batch_size)\n",
        "model_decoder_input2 = Input(shape=(128,9),batch_size=batch_size)\n",
        "model_decoder_input3 = Input(shape=(128,9),batch_size=batch_size)\n",
        "\n",
        "model_decoder_inputs=[model_decoder_input1, model_decoder_input2, model_decoder_input3]\n",
        "model_decoder_in = layers.Concatenate(axis=2)(model_decoder_inputs)\n",
        "\n",
        "# desiging decoder to accept subsequences \n",
        "num_splits=4\n",
        "split_length=int(128/num_splits)\n",
        "\n",
        "model_decoder_in = Input_Splitter(num_splits=num_splits)(model_decoder_in) #4 subsequences\n",
        "\n",
        "#high level autoregressive RNN, inspired by MusicVAE's hierarchical decoder\n",
        "c_embeddings = ConductorRNN(units=z.shape[1])(z)\n",
        "    #les \"c_embeddings\" (conductor embeddings) sont les vecteurs conducteurs dont je parle dans mon TM\n",
        "\n",
        "helper = RNN_Helper(split_length) # cette couche n'a pas de neurones, elle facilite simplement les choses\n",
        "embedder = State_Embedder(units=units3_1)\n",
        "    #bottom-level decoder (stacked LSTMs) \n",
        "layer3_1 = LSTM(units3_1,return_sequences=True,name='layer3_1') \n",
        "layer3_2 = LSTM(units3_2,return_sequences=True,name='layer3_2')\n",
        "\n",
        "# on laisse le décodeur décoder c en chaque sous-séquence\n",
        "dec_outputs=[]\n",
        "for split,c in enumerate(c_embeddings):\n",
        "    x= helper([model_decoder_in[split],c]) # 'helper' nous aide à préparer l'input (x) du décodeur inférieur\n",
        "    output=layer3_1(x,initial_state=embedder(c))\n",
        "    output=layer3_2(output)\n",
        "    dec_outputs.append(output) #one output per subsequence\n",
        "\n",
        "layer3_out = layers.Concatenate(axis=1)(dec_outputs) # on recombine les sous-séquences ensemble\n",
        "\n",
        "# dropout layer\n",
        "drop = layers.GaussianDropout(0.25)(layer3_out) # cette couche rajoute du bruit de manière spécifique \n",
        "\n",
        "# outputs\n",
        "# ces prochaines couches sont des couches classiques (Dense) encadrées par des 'TimeDistributed layers':\n",
        "    # ces derniers parcourent les données dans la dimension temporelle (comme un RNN) et ne fournissent\n",
        "    # à la couche interne qu'un seul 'timestep' à la fois, cela nous permet de fusionner les sous-séquences,\n",
        "    # tout en conservant la cohérence temporelle (en permettant plus tard au modèle d'inférence de décoder autorégressivement)  \n",
        "output1 = TD(layers.Dense(9,activation='sigmoid'),name='notes')(drop) \n",
        "output2 = TD(layers.Dense(9,activation='sigmoid'),name='vel')(drop)\n",
        "output3 = TD(layers.Dense(9,activation='tanh'),name='time')(drop)\n",
        "model_outputs = [output1,output2,output3]\n",
        "\n",
        "# defining model\n",
        "model = keras.Model([model_encoder_inputs,model_decoder_inputs],model_outputs)\n",
        "kl_loss = KL_Divergence()([z_mean,z_log_var]) # erreur de l'espace latent (VIB)\n",
        "model.add_loss(kl_loss)\n",
        "#fonctions visuelles pratiques\n",
        "model.summary()\n",
        "tf.keras.utils.plot_model(model)"
      ],
      "execution_count": null,
      "outputs": [
        {
          "output_type": "stream",
          "name": "stdout",
          "text": [
            "Model: \"model\"\n",
            "__________________________________________________________________________________________________\n",
            "Layer (type)                    Output Shape         Param #     Connected to                     \n",
            "==================================================================================================\n",
            "input1 (InputLayer)             [(64, 128, 128)]     0                                            \n",
            "__________________________________________________________________________________________________\n",
            "input2 (InputLayer)             [(64, 128, 128)]     0                                            \n",
            "__________________________________________________________________________________________________\n",
            "input3 (InputLayer)             [(64, 128, 128)]     0                                            \n",
            "__________________________________________________________________________________________________\n",
            "conv1d (Conv1D)                 (64, 32, 32)         16416       input1[0][0]                     \n",
            "__________________________________________________________________________________________________\n",
            "conv1d_2 (Conv1D)               (64, 32, 32)         16416       input2[0][0]                     \n",
            "__________________________________________________________________________________________________\n",
            "conv1d_4 (Conv1D)               (64, 32, 32)         16416       input3[0][0]                     \n",
            "__________________________________________________________________________________________________\n",
            "conv1d_1 (Conv1D)               (64, 15, 64)         8256        conv1d[0][0]                     \n",
            "__________________________________________________________________________________________________\n",
            "conv1d_3 (Conv1D)               (64, 15, 64)         8256        conv1d_2[0][0]                   \n",
            "__________________________________________________________________________________________________\n",
            "conv1d_5 (Conv1D)               (64, 15, 64)         8256        conv1d_4[0][0]                   \n",
            "__________________________________________________________________________________________________\n",
            "layer1_1 (Bidirectional)        (64, 400)            424000      conv1d_1[0][0]                   \n",
            "__________________________________________________________________________________________________\n",
            "layer1_2 (Bidirectional)        (64, 400)            424000      conv1d_3[0][0]                   \n",
            "__________________________________________________________________________________________________\n",
            "layer1_3 (Bidirectional)        (64, 400)            424000      conv1d_5[0][0]                   \n",
            "__________________________________________________________________________________________________\n",
            "concatenate (Concatenate)       (64, 1200)           0           layer1_1[0][0]                   \n",
            "                                                                 layer1_2[0][0]                   \n",
            "                                                                 layer1_3[0][0]                   \n",
            "__________________________________________________________________________________________________\n",
            "layer2 (Dense)                  (64, 500)            600500      concatenate[0][0]                \n",
            "__________________________________________________________________________________________________\n",
            "input_1 (InputLayer)            [(64, 128, 9)]       0                                            \n",
            "__________________________________________________________________________________________________\n",
            "input_2 (InputLayer)            [(64, 128, 9)]       0                                            \n",
            "__________________________________________________________________________________________________\n",
            "input_3 (InputLayer)            [(64, 128, 9)]       0                                            \n",
            "__________________________________________________________________________________________________\n",
            "mean (Dense)                    (64, 256)            128256      layer2[0][0]                     \n",
            "__________________________________________________________________________________________________\n",
            "log_var (Dense)                 (64, 256)            128256      layer2[0][0]                     \n",
            "__________________________________________________________________________________________________\n",
            "concatenate_1 (Concatenate)     (64, 128, 27)        0           input_1[0][0]                    \n",
            "                                                                 input_2[0][0]                    \n",
            "                                                                 input_3[0][0]                    \n",
            "__________________________________________________________________________________________________\n",
            "sampling (Sampling)             (64, 256)            0           mean[0][0]                       \n",
            "                                                                 log_var[0][0]                    \n",
            "__________________________________________________________________________________________________\n",
            "input__splitter (Input_Splitter [(64, 32, 27), (64,  0           concatenate_1[0][0]              \n",
            "__________________________________________________________________________________________________\n",
            "conductorRNN (ConductorRNN)     [(64, 256), (64, 256 525312      sampling[0][0]                   \n",
            "__________________________________________________________________________________________________\n",
            "helper (RNN_Helper)             (64, 32, 283)        0           input__splitter[0][0]            \n",
            "                                                                 conductorRNN[0][0]               \n",
            "                                                                 input__splitter[0][1]            \n",
            "                                                                 conductorRNN[0][1]               \n",
            "                                                                 input__splitter[0][2]            \n",
            "                                                                 conductorRNN[0][2]               \n",
            "                                                                 input__splitter[0][3]            \n",
            "                                                                 conductorRNN[0][3]               \n",
            "__________________________________________________________________________________________________\n",
            "state_Embedder (State_Embedder) [(64, 256), (64, 256 131584      conductorRNN[0][0]               \n",
            "                                                                 conductorRNN[0][1]               \n",
            "                                                                 conductorRNN[0][2]               \n",
            "                                                                 conductorRNN[0][3]               \n",
            "__________________________________________________________________________________________________\n",
            "layer3_1 (LSTM)                 (64, 32, 256)        552960      helper[0][0]                     \n",
            "                                                                 state_Embedder[0][0]             \n",
            "                                                                 state_Embedder[0][1]             \n",
            "                                                                 helper[1][0]                     \n",
            "                                                                 state_Embedder[1][0]             \n",
            "                                                                 state_Embedder[1][1]             \n",
            "                                                                 helper[2][0]                     \n",
            "                                                                 state_Embedder[2][0]             \n",
            "                                                                 state_Embedder[2][1]             \n",
            "                                                                 helper[3][0]                     \n",
            "                                                                 state_Embedder[3][0]             \n",
            "                                                                 state_Embedder[3][1]             \n",
            "__________________________________________________________________________________________________\n",
            "layer3_2 (LSTM)                 (64, 32, 256)        525312      layer3_1[0][0]                   \n",
            "                                                                 layer3_1[1][0]                   \n",
            "                                                                 layer3_1[2][0]                   \n",
            "                                                                 layer3_1[3][0]                   \n",
            "__________________________________________________________________________________________________\n",
            "concatenate_3 (Concatenate)     (64, 128, 256)       0           layer3_2[0][0]                   \n",
            "                                                                 layer3_2[1][0]                   \n",
            "                                                                 layer3_2[2][0]                   \n",
            "                                                                 layer3_2[3][0]                   \n",
            "__________________________________________________________________________________________________\n",
            "gaussian_dropout (GaussianDropo (64, 128, 256)       0           concatenate_3[0][0]              \n",
            "__________________________________________________________________________________________________\n",
            "notes (TimeDistributed)         (64, 128, 9)         2313        gaussian_dropout[0][0]           \n",
            "__________________________________________________________________________________________________\n",
            "vel (TimeDistributed)           (64, 128, 9)         2313        gaussian_dropout[0][0]           \n",
            "__________________________________________________________________________________________________\n",
            "time (TimeDistributed)          (64, 128, 9)         2313        gaussian_dropout[0][0]           \n",
            "__________________________________________________________________________________________________\n",
            "kl__divergence (KL_Divergence)  ()                   0           mean[0][0]                       \n",
            "                                                                 log_var[0][0]                    \n",
            "__________________________________________________________________________________________________\n",
            "add_loss (AddLoss)              ()                   0           kl__divergence[0][0]             \n",
            "==================================================================================================\n",
            "Total params: 3,945,135\n",
            "Trainable params: 3,945,135\n",
            "Non-trainable params: 0\n",
            "__________________________________________________________________________________________________\n"
          ]
        },
        {
          "output_type": "execute_result",
          "data": {
            "image/png": "[encoded data removed]",
            "text/plain": [
              "<IPython.core.display.Image object>"
            ]
          },
          "metadata": {},
          "execution_count": 4
        }
      ]
    },
    {
      "cell_type": "markdown",
      "metadata": {
        "id": "TmkuGUW3kIUn"
      },
      "source": [
        "> ## Training the model\n",
        "\n"
      ]
    },
    {
      "cell_type": "code",
      "metadata": {
        "id": "UjOBeCQpS8_y"
      },
      "source": [
        "def call_compile(lr=1e-3):\n",
        "    global model\n",
        "    model.compile( # fonction de keras pour préparer le modèle à l'entraînement\n",
        "        # l'optimisateur est la fonction qui détermine de combien il faudra modifier chaque paramètre\n",
        "        optimizer=keras.optimizers.Adam(learning_rate=lr,decay=0.1,clipvalue=4.0),\n",
        "        #ci dessous on voit les fonctions d'erreur et indicateurs de performance utilisés, et avec quel output\n",
        "        loss={\n",
        "            'notes':weighted_crossentropy_2,\n",
        "            'vel':mse,\n",
        "            'time':mse\n",
        "            },\n",
        "        metrics={\n",
        "            'notes':['BinaryAccuracy','Precision','Recall',precision_at_recall],\n",
        "        }\n",
        "    )"
      ],
      "execution_count": null,
      "outputs": []
    },
    {
      "cell_type": "code",
      "metadata": {
        "id": "qlAMMiYleP8C"
      },
      "source": [
        "logdir='/content/drive/MyDrive/TM/jupyter/TensorBoard/logs'\n",
        "filepath='/content/drive/MyDrive/TM/jupyter/model_checkpoints/tm-model-v8'"
      ],
      "execution_count": null,
      "outputs": []
    },
    {
      "cell_type": "code",
      "metadata": {
        "id": "QLbSf_sOpmqu"
      },
      "source": [
        "#when resuming training, execute this cell and not the next one:\n",
        "model.load_weights(filepath) #loads previously-saved parameters into the model "
      ],
      "execution_count": 1,
      "outputs": []
    },
    {
      "cell_type": "code",
      "metadata": {
        "id": "xTtkWQ1NePut"
      },
      "source": [
        "#cette cellule sert à effacer/créer des dossiers vierges dans mon Drive, dans lequels je peux sauver:\n",
        "# les valeurs d'entraînement (logs) et les paramètres du modèle (model checkpoints)\n",
        "!rm -rf /content/drive/MyDrive/TM/jupyter/TensorBoard/logs/\n",
        "!mkdir /content/drive/MyDrive/TM/jupyter/TensorBoard/logs\n",
        "\n",
        "!rm -rf /content/drive/MyDrive/TM/jupyter/model_checkpoints\n",
        "!mkdir /content/drive/MyDrive/TM/jupyter/model_checkpoints"
      ],
      "execution_count": null,
      "outputs": []
    },
    {
      "cell_type": "code",
      "metadata": {
        "id": "QyMswzupsCRC"
      },
      "source": [
        "class EpochTracker(keras.callbacks.Callback):\n",
        "    # j'ai crée ce Callback pour garder une variable globale de l'époque,\n",
        "    # j'avais des problèmes auparavant sur l'époque, elle changeait de +-1 entres les étapes,\n",
        "    # ce qui gachait les graphiques et causait d'autres ennuis \n",
        "    def on_epoch_begin(self, epoch, logs=None):\n",
        "        global ep_tracker\n",
        "        ep_tracker=epoch"
      ],
      "execution_count": null,
      "outputs": []
    },
    {
      "cell_type": "code",
      "metadata": {
        "id": "f4uGmOK8S9Bj"
      },
      "source": [
        "def call_fit(initial_epoch,epochs_to_run):\n",
        "    global model\n",
        "    model.fit( \n",
        "        # fonction de keras pour gérer l'entraînement: \n",
        "        # ->forward-pass, calcul de l'erreur, rétropropagation du gradient, etc.\n",
        "        initial_epoch=initial_epoch,\n",
        "        x=inputs,\n",
        "        y=targets,\n",
        "        batch_size=batch_size,\n",
        "        epochs=epochs_to_run,\n",
        "        shuffle=True,\n",
        "        verbose=1,\n",
        "        validation_data=(val_inputs,val_targets),\n",
        "        callbacks = [\n",
        "            #callback qui s'occupe des visualisations avec tensorboard:\n",
        "            keras.callbacks.TensorBoard( \n",
        "                log_dir=logdir,\n",
        "                histogram_freq=2,\n",
        "                write_graph=False,\n",
        "                write_images=False,\n",
        "            ),\n",
        "            #callback qui sauve les paramètres dans un fichier externe sur drive \n",
        "            keras.callbacks.ModelCheckpoint(\n",
        "                filepath,\n",
        "                monitor='val_loss',\n",
        "                save_best_only=True,\n",
        "                save_weights_only=True,\n",
        "                mode='min'\n",
        "            ),\n",
        "            #callback qui réduit le \"taux d'entraînement\" (lr) du modèle, s'il reconnait un début de stagnation\n",
        "            #   ps: le taux d'entrainement (learing rate, lr) dicte l'amplitude des changements aux paramètres du modèle\n",
        "            keras.callbacks.ReduceLROnPlateau(\n",
        "            monitor='val_loss',\n",
        "            factor=0.25,\n",
        "            patience=6,\n",
        "            verbose=1,\n",
        "            min_delta=1e-3,\n",
        "            mode='min'\n",
        "            ),\n",
        "            # callback pour arrêter l'entraînement lorsqu'il y a stagnation de l'erreur de validation\n",
        "            # -> le but étant d'éviter le sur-apprentissage\n",
        "            keras.callbacks.EarlyStopping(\n",
        "                monitor='val_loss',\n",
        "                min_delta=1e-4,\n",
        "                patience=8,\n",
        "                verbose=1,\n",
        "                mode='min',\n",
        "                restore_best_weights=True\n",
        "            ),\n",
        "            keras.callbacks.TerminateOnNaN(), # arrête l'entraînement lorsqu'une valeur parasite apparait(infini ou Not-A-Number)\n",
        "            EpochTracker(),  #callback décrit plus haut\n",
        "        ]\n",
        "    )"
      ],
      "execution_count": null,
      "outputs": []
    },
    {
      "cell_type": "code",
      "metadata": {
        "id": "FqErw6ZvkcCn"
      },
      "source": [
        "def apply_schedule(idx):\n",
        "    \"\"\" fonction qui applique le 'schedule' au modèle en congelant/décongelant les couches concernées\"\"\"\n",
        "    global model\n",
        "    i=0\n",
        "    for layer in model.layers:\n",
        "        if len(layer.trainable_weights)>0:\n",
        "            if i in schedule[idx][0]:\n",
        "                layer.trainable=False\n",
        "            else:\n",
        "                layer.trainable=True\n",
        "            i+=1"
      ],
      "execution_count": null,
      "outputs": []
    },
    {
      "cell_type": "code",
      "metadata": {
        "id": "tIAnDwUvBsVJ"
      },
      "source": [
        "\"\"\"le 'schedule' permet au modèle de savoir quelles couches congeler lors de l'étape courante d'entraînement \n",
        "    c'est ma variante du layer-wise pretraining dont je parle dans mon TM\n",
        "\"\"\"\n",
        "schedule = [\n",
        "    [[],15,1e-3],                           #everything, 15 epochs \n",
        "    [range(0,9),15,1e-3],                   #no encoder, 15 epochs \n",
        "    [[0,1,2,3,4,5,14,15,16,17,18],10,5e-4], #middle active, 10 epochs \n",
        "    [range(10,19),15,5e-4],                 #encoder active, 15 epochs\n",
        "    [range(6,19),10,5e-4],                  #only conv layers, 10 epochs\n",
        "    [range(10,19),5,1e-4],                  #encoder active, 5 epochs\n",
        "    [range(14,19),5,1e-4],                  #up to middle active, 5 epochs\n",
        "    [[],50,1e-4]                            #full model, 50 epochs, lower lr \n",
        "]\n",
        "#125 epochs total"
      ],
      "execution_count": null,
      "outputs": []
    },
    {
      "cell_type": "code",
      "metadata": {
        "colab": {
          "base_uri": "https://localhost:8080/"
        },
        "id": "7UbksxiCoq_3",
        "outputId": "e0989728-bc38-4e2b-f677-9aa6daafe357"
      },
      "source": [
        "#custom training loop:\n",
        "curr_epoch=0\n",
        "for idx in range(len(schedule)):\n",
        "    print(f'\\ttraining part {idx+1}:')\n",
        "    apply_schedule(idx)\n",
        "    call_compile(schedule[idx][2])\n",
        "    call_fit(curr_epoch,curr_epoch+schedule[idx][1])\n",
        "    curr_epoch=ep_tracker #incrementing curr epoch \n",
        "    "
      ],
      "execution_count": null,
      "outputs": [
        {
          "output_type": "stream",
          "text": [
            "\ttraining part 1:\n",
            "Epoch 1/15\n",
            "125/125 [==============================] - 361s 3s/step - loss: 0.6863 - notes_loss: 0.5663 - vel_loss: 0.0884 - time_loss: 0.0316 - notes_binary_accuracy: 0.8411 - notes_precision: 0.3415 - notes_recall: 0.4629 - notes_precision_at_recall: 0.2388 - val_loss: 0.5185 - val_notes_loss: 0.4703 - val_vel_loss: 0.0417 - val_time_loss: 0.0064 - val_notes_binary_accuracy: 0.8889 - val_notes_precision: 0.5463 - val_notes_recall: 0.4549 - val_notes_precision_at_recall: 0.3748\n",
            "Epoch 2/15\n",
            "125/125 [==============================] - 329s 3s/step - loss: 0.5263 - notes_loss: 0.4569 - vel_loss: 0.0423 - time_loss: 0.0272 - notes_binary_accuracy: 0.8821 - notes_precision: 0.4541 - notes_recall: 0.5347 - notes_precision_at_recall: 0.3518 - val_loss: 0.5010 - val_notes_loss: 0.4549 - val_vel_loss: 0.0399 - val_time_loss: 0.0062 - val_notes_binary_accuracy: 0.8800 - val_notes_precision: 0.5014 - val_notes_recall: 0.5167 - val_notes_precision_at_recall: 0.3988\n",
            "Epoch 3/15\n",
            "125/125 [==============================] - 330s 3s/step - loss: 0.5032 - notes_loss: 0.4382 - vel_loss: 0.0402 - time_loss: 0.0248 - notes_binary_accuracy: 0.8857 - notes_precision: 0.4655 - notes_recall: 0.5637 - notes_precision_at_recall: 0.3699 - val_loss: 0.4955 - val_notes_loss: 0.4502 - val_vel_loss: 0.0391 - val_time_loss: 0.0062 - val_notes_binary_accuracy: 0.8784 - val_notes_precision: 0.4953 - val_notes_recall: 0.5506 - val_notes_precision_at_recall: 0.4148\n",
            "Epoch 4/15\n",
            "125/125 [==============================] - 333s 3s/step - loss: 0.4978 - notes_loss: 0.4347 - vel_loss: 0.0398 - time_loss: 0.0233 - notes_binary_accuracy: 0.8852 - notes_precision: 0.4682 - notes_recall: 0.5760 - notes_precision_at_recall: 0.3810 - val_loss: 0.4913 - val_notes_loss: 0.4465 - val_vel_loss: 0.0386 - val_time_loss: 0.0062 - val_notes_binary_accuracy: 0.8711 - val_notes_precision: 0.4723 - val_notes_recall: 0.6052 - val_notes_precision_at_recall: 0.4309\n",
            "Epoch 5/15\n",
            "125/125 [==============================] - 313s 3s/step - loss: 0.4925 - notes_loss: 0.4311 - vel_loss: 0.0393 - time_loss: 0.0222 - notes_binary_accuracy: 0.8845 - notes_precision: 0.4685 - notes_recall: 0.5878 - notes_precision_at_recall: 0.3917 - val_loss: 0.4882 - val_notes_loss: 0.4438 - val_vel_loss: 0.0381 - val_time_loss: 0.0063 - val_notes_binary_accuracy: 0.8762 - val_notes_precision: 0.4882 - val_notes_recall: 0.5967 - val_notes_precision_at_recall: 0.4324\n",
            "Epoch 6/15\n",
            "125/125 [==============================] - 327s 3s/step - loss: 0.4883 - notes_loss: 0.4280 - vel_loss: 0.0387 - time_loss: 0.0216 - notes_binary_accuracy: 0.8850 - notes_precision: 0.4688 - notes_recall: 0.5884 - notes_precision_at_recall: 0.3922 - val_loss: 0.4845 - val_notes_loss: 0.4405 - val_vel_loss: 0.0377 - val_time_loss: 0.0063 - val_notes_binary_accuracy: 0.8778 - val_notes_precision: 0.4938 - val_notes_recall: 0.5988 - val_notes_precision_at_recall: 0.4352\n",
            "Epoch 7/15\n",
            "125/125 [==============================] - 336s 3s/step - loss: 0.4823 - notes_loss: 0.4229 - vel_loss: 0.0383 - time_loss: 0.0211 - notes_binary_accuracy: 0.8862 - notes_precision: 0.4717 - notes_recall: 0.5911 - notes_precision_at_recall: 0.3959 - val_loss: 0.4814 - val_notes_loss: 0.4379 - val_vel_loss: 0.0373 - val_time_loss: 0.0062 - val_notes_binary_accuracy: 0.8803 - val_notes_precision: 0.5021 - val_notes_recall: 0.6033 - val_notes_precision_at_recall: 0.4403\n",
            "Epoch 8/15\n",
            "125/125 [==============================] - 338s 3s/step - loss: 0.4814 - notes_loss: 0.4228 - vel_loss: 0.0381 - time_loss: 0.0204 - notes_binary_accuracy: 0.8860 - notes_precision: 0.4715 - notes_recall: 0.5949 - notes_precision_at_recall: 0.3998 - val_loss: 0.4795 - val_notes_loss: 0.4362 - val_vel_loss: 0.0370 - val_time_loss: 0.0063 - val_notes_binary_accuracy: 0.8801 - val_notes_precision: 0.5016 - val_notes_recall: 0.6182 - val_notes_precision_at_recall: 0.4494\n",
            "Epoch 9/15\n",
            "125/125 [==============================] - 336s 3s/step - loss: 0.4738 - notes_loss: 0.4163 - vel_loss: 0.0373 - time_loss: 0.0202 - notes_binary_accuracy: 0.8880 - notes_precision: 0.4762 - notes_recall: 0.6000 - notes_precision_at_recall: 0.4080 - val_loss: 0.4768 - val_notes_loss: 0.4339 - val_vel_loss: 0.0366 - val_time_loss: 0.0063 - val_notes_binary_accuracy: 0.8782 - val_notes_precision: 0.4954 - val_notes_recall: 0.6418 - val_notes_precision_at_recall: 0.4572\n",
            "Epoch 10/15\n",
            "125/125 [==============================] - 336s 3s/step - loss: 0.4694 - notes_loss: 0.4123 - vel_loss: 0.0373 - time_loss: 0.0198 - notes_binary_accuracy: 0.8886 - notes_precision: 0.4763 - notes_recall: 0.6029 - notes_precision_at_recall: 0.4086 - val_loss: 0.4758 - val_notes_loss: 0.4331 - val_vel_loss: 0.0365 - val_time_loss: 0.0063 - val_notes_binary_accuracy: 0.8816 - val_notes_precision: 0.5066 - val_notes_recall: 0.6190 - val_notes_precision_at_recall: 0.4617\n",
            "Epoch 11/15\n",
            "125/125 [==============================] - 336s 3s/step - loss: 0.4768 - notes_loss: 0.4199 - vel_loss: 0.0377 - time_loss: 0.0192 - notes_binary_accuracy: 0.8862 - notes_precision: 0.4763 - notes_recall: 0.6048 - notes_precision_at_recall: 0.4092 - val_loss: 0.4733 - val_notes_loss: 0.4309 - val_vel_loss: 0.0361 - val_time_loss: 0.0063 - val_notes_binary_accuracy: 0.8801 - val_notes_precision: 0.5014 - val_notes_recall: 0.6471 - val_notes_precision_at_recall: 0.4667\n",
            "Epoch 12/15\n",
            "125/125 [==============================] - 317s 3s/step - loss: 0.4715 - notes_loss: 0.4150 - vel_loss: 0.0374 - time_loss: 0.0191 - notes_binary_accuracy: 0.8871 - notes_precision: 0.4784 - notes_recall: 0.6112 - notes_precision_at_recall: 0.4146 - val_loss: 0.4722 - val_notes_loss: 0.4299 - val_vel_loss: 0.0360 - val_time_loss: 0.0063 - val_notes_binary_accuracy: 0.8795 - val_notes_precision: 0.4996 - val_notes_recall: 0.6643 - val_notes_precision_at_recall: 0.4748\n",
            "Epoch 13/15\n",
            "125/125 [==============================] - 337s 3s/step - loss: 0.4646 - notes_loss: 0.4090 - vel_loss: 0.0367 - time_loss: 0.0188 - notes_binary_accuracy: 0.8891 - notes_precision: 0.4807 - notes_recall: 0.6135 - notes_precision_at_recall: 0.4213 - val_loss: 0.4712 - val_notes_loss: 0.4288 - val_vel_loss: 0.0361 - val_time_loss: 0.0063 - val_notes_binary_accuracy: 0.8778 - val_notes_precision: 0.4946 - val_notes_recall: 0.6804 - val_notes_precision_at_recall: 0.4799\n",
            "Epoch 14/15\n",
            "125/125 [==============================] - 315s 3s/step - loss: 0.4652 - notes_loss: 0.4100 - vel_loss: 0.0367 - time_loss: 0.0185 - notes_binary_accuracy: 0.8888 - notes_precision: 0.4807 - notes_recall: 0.6170 - notes_precision_at_recall: 0.4230 - val_loss: 0.4705 - val_notes_loss: 0.4284 - val_vel_loss: 0.0358 - val_time_loss: 0.0063 - val_notes_binary_accuracy: 0.8842 - val_notes_precision: 0.5150 - val_notes_recall: 0.6530 - val_notes_precision_at_recall: 0.4768\n",
            "Epoch 15/15\n",
            "125/125 [==============================] - 337s 3s/step - loss: 0.4629 - notes_loss: 0.4084 - vel_loss: 0.0363 - time_loss: 0.0182 - notes_binary_accuracy: 0.8894 - notes_precision: 0.4816 - notes_recall: 0.6161 - notes_precision_at_recall: 0.4236 - val_loss: 0.4679 - val_notes_loss: 0.4260 - val_vel_loss: 0.0356 - val_time_loss: 0.0064 - val_notes_binary_accuracy: 0.8835 - val_notes_precision: 0.5123 - val_notes_recall: 0.6597 - val_notes_precision_at_recall: 0.4755\n",
            "\ttraining part 2:\n",
            "Epoch 15/29\n",
            "125/125 [==============================] - 338s 3s/step - loss: 0.5679 - notes_loss: 0.5074 - vel_loss: 0.0393 - time_loss: 0.0212 - notes_binary_accuracy: 0.8695 - notes_precision: 0.4170 - notes_recall: 0.5316 - notes_precision_at_recall_1: 0.3325 - val_loss: 0.4912 - val_notes_loss: 0.4505 - val_vel_loss: 0.0344 - val_time_loss: 0.0064 - val_notes_binary_accuracy: 0.8904 - val_notes_precision: 0.5473 - val_notes_recall: 0.5155 - val_notes_precision_at_recall_1: 0.3869\n",
            "Epoch 16/29\n",
            "125/125 [==============================] - 291s 2s/step - loss: 0.4676 - notes_loss: 0.4184 - vel_loss: 0.0351 - time_loss: 0.0140 - notes_binary_accuracy: 0.8898 - notes_precision: 0.4872 - notes_recall: 0.5910 - notes_precision_at_recall_1: 0.4124 - val_loss: 0.4832 - val_notes_loss: 0.4432 - val_vel_loss: 0.0337 - val_time_loss: 0.0063 - val_notes_binary_accuracy: 0.8899 - val_notes_precision: 0.5419 - val_notes_recall: 0.5509 - val_notes_precision_at_recall_1: 0.4065\n",
            "Epoch 17/29\n",
            "125/125 [==============================] - 312s 2s/step - loss: 0.4577 - notes_loss: 0.4098 - vel_loss: 0.0346 - time_loss: 0.0133 - notes_binary_accuracy: 0.8920 - notes_precision: 0.4957 - notes_recall: 0.6096 - notes_precision_at_recall_1: 0.4311 - val_loss: 0.4763 - val_notes_loss: 0.4368 - val_vel_loss: 0.0332 - val_time_loss: 0.0063 - val_notes_binary_accuracy: 0.8875 - val_notes_precision: 0.5295 - val_notes_recall: 0.5839 - val_notes_precision_at_recall_1: 0.4233\n",
            "Epoch 18/29\n",
            "125/125 [==============================] - 316s 3s/step - loss: 0.4505 - notes_loss: 0.4032 - vel_loss: 0.0342 - time_loss: 0.0131 - notes_binary_accuracy: 0.8930 - notes_precision: 0.4953 - notes_recall: 0.6185 - notes_precision_at_recall_1: 0.4358 - val_loss: 0.4710 - val_notes_loss: 0.4319 - val_vel_loss: 0.0329 - val_time_loss: 0.0063 - val_notes_binary_accuracy: 0.8848 - val_notes_precision: 0.5185 - val_notes_recall: 0.6064 - val_notes_precision_at_recall_1: 0.4418\n",
            "Epoch 19/29\n",
            "125/125 [==============================] - 292s 2s/step - loss: 0.4484 - notes_loss: 0.4016 - vel_loss: 0.0340 - time_loss: 0.0128 - notes_binary_accuracy: 0.8921 - notes_precision: 0.4988 - notes_recall: 0.6339 - notes_precision_at_recall_1: 0.4495 - val_loss: 0.4667 - val_notes_loss: 0.4279 - val_vel_loss: 0.0325 - val_time_loss: 0.0063 - val_notes_binary_accuracy: 0.8880 - val_notes_precision: 0.5301 - val_notes_recall: 0.6108 - val_notes_precision_at_recall_1: 0.4545\n",
            "Epoch 20/29\n",
            "125/125 [==============================] - 312s 2s/step - loss: 0.4411 - notes_loss: 0.3949 - vel_loss: 0.0334 - time_loss: 0.0127 - notes_binary_accuracy: 0.8931 - notes_precision: 0.4983 - notes_recall: 0.6415 - notes_precision_at_recall_1: 0.4539 - val_loss: 0.4630 - val_notes_loss: 0.4244 - val_vel_loss: 0.0323 - val_time_loss: 0.0063 - val_notes_binary_accuracy: 0.8882 - val_notes_precision: 0.5302 - val_notes_recall: 0.6234 - val_notes_precision_at_recall_1: 0.4687\n",
            "Epoch 21/29\n",
            "125/125 [==============================] - 312s 2s/step - loss: 0.4381 - notes_loss: 0.3922 - vel_loss: 0.0334 - time_loss: 0.0125 - notes_binary_accuracy: 0.8938 - notes_precision: 0.5009 - notes_recall: 0.6462 - notes_precision_at_recall_1: 0.4623 - val_loss: 0.4610 - val_notes_loss: 0.4225 - val_vel_loss: 0.0322 - val_time_loss: 0.0063 - val_notes_binary_accuracy: 0.8875 - val_notes_precision: 0.5270 - val_notes_recall: 0.6354 - val_notes_precision_at_recall_1: 0.4696\n",
            "Epoch 22/29\n",
            "125/125 [==============================] - 312s 2s/step - loss: 0.4360 - notes_loss: 0.3905 - vel_loss: 0.0333 - time_loss: 0.0122 - notes_binary_accuracy: 0.8934 - notes_precision: 0.4984 - notes_recall: 0.6499 - notes_precision_at_recall_1: 0.4609 - val_loss: 0.4588 - val_notes_loss: 0.4205 - val_vel_loss: 0.0319 - val_time_loss: 0.0063 - val_notes_binary_accuracy: 0.8887 - val_notes_precision: 0.5317 - val_notes_recall: 0.6330 - val_notes_precision_at_recall_1: 0.4771\n",
            "Epoch 23/29\n",
            "125/125 [==============================] - 312s 3s/step - loss: 0.4319 - notes_loss: 0.3869 - vel_loss: 0.0327 - time_loss: 0.0122 - notes_binary_accuracy: 0.8946 - notes_precision: 0.5038 - notes_recall: 0.6565 - notes_precision_at_recall_1: 0.4729 - val_loss: 0.4577 - val_notes_loss: 0.4195 - val_vel_loss: 0.0318 - val_time_loss: 0.0063 - val_notes_binary_accuracy: 0.8886 - val_notes_precision: 0.5311 - val_notes_recall: 0.6370 - val_notes_precision_at_recall_1: 0.4824\n",
            "Epoch 24/29\n",
            "125/125 [==============================] - 291s 2s/step - loss: 0.4301 - notes_loss: 0.3852 - vel_loss: 0.0329 - time_loss: 0.0121 - notes_binary_accuracy: 0.8945 - notes_precision: 0.5062 - notes_recall: 0.6623 - notes_precision_at_recall_1: 0.4777 - val_loss: 0.4552 - val_notes_loss: 0.4172 - val_vel_loss: 0.0316 - val_time_loss: 0.0063 - val_notes_binary_accuracy: 0.8893 - val_notes_precision: 0.5335 - val_notes_recall: 0.6399 - val_notes_precision_at_recall_1: 0.4872\n",
            "Epoch 25/29\n",
            "125/125 [==============================] - 312s 2s/step - loss: 0.4302 - notes_loss: 0.3852 - vel_loss: 0.0330 - time_loss: 0.0120 - notes_binary_accuracy: 0.8942 - notes_precision: 0.5057 - notes_recall: 0.6642 - notes_precision_at_recall_1: 0.4772 - val_loss: 0.4546 - val_notes_loss: 0.4167 - val_vel_loss: 0.0316 - val_time_loss: 0.0063 - val_notes_binary_accuracy: 0.8893 - val_notes_precision: 0.5335 - val_notes_recall: 0.6408 - val_notes_precision_at_recall_1: 0.4989\n",
            "Epoch 26/29\n",
            "125/125 [==============================] - 309s 2s/step - loss: 0.4251 - notes_loss: 0.3805 - vel_loss: 0.0328 - time_loss: 0.0118 - notes_binary_accuracy: 0.8957 - notes_precision: 0.5079 - notes_recall: 0.6683 - notes_precision_at_recall_1: 0.4847 - val_loss: 0.4536 - val_notes_loss: 0.4159 - val_vel_loss: 0.0314 - val_time_loss: 0.0063 - val_notes_binary_accuracy: 0.8891 - val_notes_precision: 0.5321 - val_notes_recall: 0.6529 - val_notes_precision_at_recall_1: 0.4947\n",
            "Epoch 27/29\n",
            "125/125 [==============================] - 312s 2s/step - loss: 0.4205 - notes_loss: 0.3762 - vel_loss: 0.0324 - time_loss: 0.0119 - notes_binary_accuracy: 0.8965 - notes_precision: 0.5100 - notes_recall: 0.6736 - notes_precision_at_recall_1: 0.4879 - val_loss: 0.4524 - val_notes_loss: 0.4148 - val_vel_loss: 0.0313 - val_time_loss: 0.0063 - val_notes_binary_accuracy: 0.8891 - val_notes_precision: 0.5318 - val_notes_recall: 0.6556 - val_notes_precision_at_recall_1: 0.5047\n",
            "Epoch 28/29\n",
            "125/125 [==============================] - 311s 2s/step - loss: 0.4197 - notes_loss: 0.3755 - vel_loss: 0.0325 - time_loss: 0.0117 - notes_binary_accuracy: 0.8966 - notes_precision: 0.5092 - notes_recall: 0.6739 - notes_precision_at_recall_1: 0.4872 - val_loss: 0.4508 - val_notes_loss: 0.4134 - val_vel_loss: 0.0312 - val_time_loss: 0.0063 - val_notes_binary_accuracy: 0.8892 - val_notes_precision: 0.5321 - val_notes_recall: 0.6571 - val_notes_precision_at_recall_1: 0.5065\n",
            "Epoch 29/29\n",
            "125/125 [==============================] - 293s 2s/step - loss: 0.4149 - notes_loss: 0.3711 - vel_loss: 0.0320 - time_loss: 0.0117 - notes_binary_accuracy: 0.8976 - notes_precision: 0.5121 - notes_recall: 0.6794 - notes_precision_at_recall_1: 0.4956 - val_loss: 0.4507 - val_notes_loss: 0.4133 - val_vel_loss: 0.0310 - val_time_loss: 0.0063 - val_notes_binary_accuracy: 0.8905 - val_notes_precision: 0.5369 - val_notes_recall: 0.6545 - val_notes_precision_at_recall_1: 0.5042\n",
            "\ttraining part 3:\n",
            "Epoch 29/38\n",
            "125/125 [==============================] - 209s 1s/step - loss: 0.4082 - notes_loss: 0.3651 - vel_loss: 0.0316 - time_loss: 0.0114 - notes_binary_accuracy: 0.8997 - notes_precision: 0.5201 - notes_recall: 0.6896 - notes_precision_at_recall_2: 0.5100 - val_loss: 0.4461 - val_notes_loss: 0.4100 - val_vel_loss: 0.0298 - val_time_loss: 0.0063 - val_notes_binary_accuracy: 0.8953 - val_notes_precision: 0.5538 - val_notes_recall: 0.6688 - val_notes_precision_at_recall_2: 0.5308\n",
            "Epoch 30/38\n",
            "125/125 [==============================] - 176s 1s/step - loss: 0.3873 - notes_loss: 0.3467 - vel_loss: 0.0299 - time_loss: 0.0108 - notes_binary_accuracy: 0.9063 - notes_precision: 0.5446 - notes_recall: 0.7142 - notes_precision_at_recall_2: 0.5530 - val_loss: 0.4407 - val_notes_loss: 0.4054 - val_vel_loss: 0.0289 - val_time_loss: 0.0063 - val_notes_binary_accuracy: 0.8994 - val_notes_precision: 0.5685 - val_notes_recall: 0.6830 - val_notes_precision_at_recall_2: 0.5555\n",
            "Epoch 31/38\n",
            "125/125 [==============================] - 196s 2s/step - loss: 0.3765 - notes_loss: 0.3364 - vel_loss: 0.0291 - time_loss: 0.0110 - notes_binary_accuracy: 0.9111 - notes_precision: 0.5627 - notes_recall: 0.7328 - notes_precision_at_recall_2: 0.5889 - val_loss: 0.4383 - val_notes_loss: 0.4039 - val_vel_loss: 0.0281 - val_time_loss: 0.0063 - val_notes_binary_accuracy: 0.9045 - val_notes_precision: 0.5889 - val_notes_recall: 0.6839 - val_notes_precision_at_recall_2: 0.5753\n",
            "Epoch 32/38\n",
            "125/125 [==============================] - 195s 2s/step - loss: 0.3723 - notes_loss: 0.3327 - vel_loss: 0.0283 - time_loss: 0.0114 - notes_binary_accuracy: 0.9128 - notes_precision: 0.5697 - notes_recall: 0.7403 - notes_precision_at_recall_2: 0.6002 - val_loss: 0.4357 - val_notes_loss: 0.4017 - val_vel_loss: 0.0277 - val_time_loss: 0.0063 - val_notes_binary_accuracy: 0.9056 - val_notes_precision: 0.5935 - val_notes_recall: 0.6849 - val_notes_precision_at_recall_2: 0.5806\n",
            "Epoch 33/38\n",
            "125/125 [==============================] - 176s 1s/step - loss: 0.3645 - notes_loss: 0.3253 - vel_loss: 0.0279 - time_loss: 0.0113 - notes_binary_accuracy: 0.9147 - notes_precision: 0.5778 - notes_recall: 0.7496 - notes_precision_at_recall_2: 0.6175 - val_loss: 0.4326 - val_notes_loss: 0.3987 - val_vel_loss: 0.0275 - val_time_loss: 0.0063 - val_notes_binary_accuracy: 0.9052 - val_notes_precision: 0.5901 - val_notes_recall: 0.6944 - val_notes_precision_at_recall_2: 0.5822\n",
            "Epoch 34/38\n",
            "125/125 [==============================] - 176s 1s/step - loss: 0.3617 - notes_loss: 0.3230 - vel_loss: 0.0275 - time_loss: 0.0113 - notes_binary_accuracy: 0.9152 - notes_precision: 0.5774 - notes_recall: 0.7540 - notes_precision_at_recall_2: 0.6188 - val_loss: 0.4314 - val_notes_loss: 0.3977 - val_vel_loss: 0.0274 - val_time_loss: 0.0063 - val_notes_binary_accuracy: 0.9059 - val_notes_precision: 0.5931 - val_notes_recall: 0.6956 - val_notes_precision_at_recall_2: 0.5842\n",
            "Epoch 35/38\n",
            "125/125 [==============================] - 195s 2s/step - loss: 0.3589 - notes_loss: 0.3203 - vel_loss: 0.0274 - time_loss: 0.0112 - notes_binary_accuracy: 0.9162 - notes_precision: 0.5790 - notes_recall: 0.7549 - notes_precision_at_recall_2: 0.6218 - val_loss: 0.4290 - val_notes_loss: 0.3955 - val_vel_loss: 0.0272 - val_time_loss: 0.0063 - val_notes_binary_accuracy: 0.9058 - val_notes_precision: 0.5919 - val_notes_recall: 0.6997 - val_notes_precision_at_recall_2: 0.5892\n",
            "Epoch 36/38\n",
            "125/125 [==============================] - 175s 1s/step - loss: 0.3557 - notes_loss: 0.3175 - vel_loss: 0.0271 - time_loss: 0.0111 - notes_binary_accuracy: 0.9171 - notes_precision: 0.5835 - notes_recall: 0.7617 - notes_precision_at_recall_2: 0.6311 - val_loss: 0.4278 - val_notes_loss: 0.3944 - val_vel_loss: 0.0271 - val_time_loss: 0.0064 - val_notes_binary_accuracy: 0.9067 - val_notes_precision: 0.5957 - val_notes_recall: 0.6986 - val_notes_precision_at_recall_2: 0.5926\n",
            "Epoch 37/38\n",
            "125/125 [==============================] - 196s 2s/step - loss: 0.3569 - notes_loss: 0.3185 - vel_loss: 0.0273 - time_loss: 0.0111 - notes_binary_accuracy: 0.9166 - notes_precision: 0.5835 - notes_recall: 0.7617 - notes_precision_at_recall_2: 0.6336 - val_loss: 0.4263 - val_notes_loss: 0.3930 - val_vel_loss: 0.0270 - val_time_loss: 0.0064 - val_notes_binary_accuracy: 0.9060 - val_notes_precision: 0.5919 - val_notes_recall: 0.7043 - val_notes_precision_at_recall_2: 0.5949\n",
            "Epoch 38/38\n",
            "125/125 [==============================] - 177s 1s/step - loss: 0.3537 - notes_loss: 0.3159 - vel_loss: 0.0268 - time_loss: 0.0110 - notes_binary_accuracy: 0.9174 - notes_precision: 0.5831 - notes_recall: 0.7620 - notes_precision_at_recall_2: 0.6308 - val_loss: 0.4251 - val_notes_loss: 0.3918 - val_vel_loss: 0.0269 - val_time_loss: 0.0064 - val_notes_binary_accuracy: 0.9065 - val_notes_precision: 0.5940 - val_notes_recall: 0.7047 - val_notes_precision_at_recall_2: 0.5972\n",
            "\ttraining part 4:\n",
            "Epoch 38/52\n",
            "125/125 [==============================] - 227s 2s/step - loss: 0.3505 - notes_loss: 0.3128 - vel_loss: 0.0264 - time_loss: 0.0113 - notes_binary_accuracy: 0.9190 - notes_precision: 0.5916 - notes_recall: 0.7679 - notes_precision_at_recall_3: 0.6492 - val_loss: 0.4078 - val_notes_loss: 0.3759 - val_vel_loss: 0.0255 - val_time_loss: 0.0064 - val_notes_binary_accuracy: 0.9124 - val_notes_precision: 0.6148 - val_notes_recall: 0.7280 - val_notes_precision_at_recall_3: 0.6317\n",
            "Epoch 39/52\n",
            "125/125 [==============================] - 177s 1s/step - loss: 0.3350 - notes_loss: 0.3000 - vel_loss: 0.0248 - time_loss: 0.0102 - notes_binary_accuracy: 0.9230 - notes_precision: 0.6036 - notes_recall: 0.7785 - notes_precision_at_recall_3: 0.6744 - val_loss: 0.4017 - val_notes_loss: 0.3702 - val_vel_loss: 0.0252 - val_time_loss: 0.0064 - val_notes_binary_accuracy: 0.9122 - val_notes_precision: 0.6107 - val_notes_recall: 0.7471 - val_notes_precision_at_recall_3: 0.6393\n",
            "Epoch 40/52\n",
            "125/125 [==============================] - 195s 2s/step - loss: 0.3297 - notes_loss: 0.2950 - vel_loss: 0.0246 - time_loss: 0.0100 - notes_binary_accuracy: 0.9238 - notes_precision: 0.6065 - notes_recall: 0.7830 - notes_precision_at_recall_3: 0.6849 - val_loss: 0.4001 - val_notes_loss: 0.3688 - val_vel_loss: 0.0249 - val_time_loss: 0.0064 - val_notes_binary_accuracy: 0.9132 - val_notes_precision: 0.6136 - val_notes_recall: 0.7523 - val_notes_precision_at_recall_3: 0.6473\n",
            "Epoch 41/52\n",
            "125/125 [==============================] - 176s 1s/step - loss: 0.3312 - notes_loss: 0.2969 - vel_loss: 0.0244 - time_loss: 0.0099 - notes_binary_accuracy: 0.9231 - notes_precision: 0.6060 - notes_recall: 0.7826 - notes_precision_at_recall_3: 0.6853 - val_loss: 0.3979 - val_notes_loss: 0.3669 - val_vel_loss: 0.0246 - val_time_loss: 0.0064 - val_notes_binary_accuracy: 0.9143 - val_notes_precision: 0.6185 - val_notes_recall: 0.7512 - val_notes_precision_at_recall_3: 0.6511\n",
            "Epoch 42/52\n",
            "125/125 [==============================] - 197s 2s/step - loss: 0.3266 - notes_loss: 0.2926 - vel_loss: 0.0242 - time_loss: 0.0098 - notes_binary_accuracy: 0.9243 - notes_precision: 0.6133 - notes_recall: 0.7906 - notes_precision_at_recall_3: 0.7014 - val_loss: 0.3966 - val_notes_loss: 0.3658 - val_vel_loss: 0.0245 - val_time_loss: 0.0064 - val_notes_binary_accuracy: 0.9144 - val_notes_precision: 0.6184 - val_notes_recall: 0.7540 - val_notes_precision_at_recall_3: 0.6555\n",
            "Epoch 43/52\n",
            "125/125 [==============================] - 197s 2s/step - loss: 0.3258 - notes_loss: 0.2919 - vel_loss: 0.0243 - time_loss: 0.0096 - notes_binary_accuracy: 0.9248 - notes_precision: 0.6138 - notes_recall: 0.7888 - notes_precision_at_recall_3: 0.7011 - val_loss: 0.3951 - val_notes_loss: 0.3645 - val_vel_loss: 0.0243 - val_time_loss: 0.0064 - val_notes_binary_accuracy: 0.9143 - val_notes_precision: 0.6182 - val_notes_recall: 0.7541 - val_notes_precision_at_recall_3: 0.6560\n",
            "Epoch 44/52\n",
            "125/125 [==============================] - 196s 2s/step - loss: 0.3266 - notes_loss: 0.2930 - vel_loss: 0.0241 - time_loss: 0.0095 - notes_binary_accuracy: 0.9246 - notes_precision: 0.6136 - notes_recall: 0.7886 - notes_precision_at_recall_3: 0.6998 - val_loss: 0.3942 - val_notes_loss: 0.3636 - val_vel_loss: 0.0243 - val_time_loss: 0.0064 - val_notes_binary_accuracy: 0.9137 - val_notes_precision: 0.6146 - val_notes_recall: 0.7577 - val_notes_precision_at_recall_3: 0.6626\n",
            "Epoch 45/52\n",
            "125/125 [==============================] - 178s 1s/step - loss: 0.3242 - notes_loss: 0.2909 - vel_loss: 0.0239 - time_loss: 0.0095 - notes_binary_accuracy: 0.9250 - notes_precision: 0.6164 - notes_recall: 0.7925 - notes_precision_at_recall_3: 0.7089 - val_loss: 0.3934 - val_notes_loss: 0.3629 - val_vel_loss: 0.0241 - val_time_loss: 0.0063 - val_notes_binary_accuracy: 0.9140 - val_notes_precision: 0.6168 - val_notes_recall: 0.7551 - val_notes_precision_at_recall_3: 0.6660\n",
            "Epoch 46/52\n",
            "125/125 [==============================] - 177s 1s/step - loss: 0.3256 - notes_loss: 0.2925 - vel_loss: 0.0238 - time_loss: 0.0094 - notes_binary_accuracy: 0.9244 - notes_precision: 0.6135 - notes_recall: 0.7896 - notes_precision_at_recall_3: 0.7043 - val_loss: 0.3922 - val_notes_loss: 0.3618 - val_vel_loss: 0.0240 - val_time_loss: 0.0063 - val_notes_binary_accuracy: 0.9146 - val_notes_precision: 0.6192 - val_notes_recall: 0.7545 - val_notes_precision_at_recall_3: 0.6691\n",
            "Epoch 47/52\n",
            "125/125 [==============================] - 177s 1s/step - loss: 0.3226 - notes_loss: 0.2896 - vel_loss: 0.0237 - time_loss: 0.0093 - notes_binary_accuracy: 0.9253 - notes_precision: 0.6166 - notes_recall: 0.7917 - notes_precision_at_recall_3: 0.7092 - val_loss: 0.3915 - val_notes_loss: 0.3612 - val_vel_loss: 0.0240 - val_time_loss: 0.0063 - val_notes_binary_accuracy: 0.9145 - val_notes_precision: 0.6184 - val_notes_recall: 0.7561 - val_notes_precision_at_recall_3: 0.6689\n",
            "Epoch 48/52\n",
            "125/125 [==============================] - 177s 1s/step - loss: 0.3228 - notes_loss: 0.2898 - vel_loss: 0.0238 - time_loss: 0.0092 - notes_binary_accuracy: 0.9251 - notes_precision: 0.6123 - notes_recall: 0.7884 - notes_precision_at_recall_3: 0.6995 - val_loss: 0.3914 - val_notes_loss: 0.3612 - val_vel_loss: 0.0239 - val_time_loss: 0.0063 - val_notes_binary_accuracy: 0.9150 - val_notes_precision: 0.6208 - val_notes_recall: 0.7554 - val_notes_precision_at_recall_3: 0.6717\n",
            "Epoch 49/52\n",
            "125/125 [==============================] - 195s 2s/step - loss: 0.3253 - notes_loss: 0.2923 - vel_loss: 0.0238 - time_loss: 0.0092 - notes_binary_accuracy: 0.9246 - notes_precision: 0.6158 - notes_recall: 0.7908 - notes_precision_at_recall_3: 0.7055 - val_loss: 0.3905 - val_notes_loss: 0.3603 - val_vel_loss: 0.0238 - val_time_loss: 0.0063 - val_notes_binary_accuracy: 0.9149 - val_notes_precision: 0.6202 - val_notes_recall: 0.7559 - val_notes_precision_at_recall_3: 0.6711\n",
            "Epoch 50/52\n",
            "125/125 [==============================] - 196s 2s/step - loss: 0.3236 - notes_loss: 0.2908 - vel_loss: 0.0237 - time_loss: 0.0091 - notes_binary_accuracy: 0.9247 - notes_precision: 0.6134 - notes_recall: 0.7899 - notes_precision_at_recall_3: 0.7029 - val_loss: 0.3900 - val_notes_loss: 0.3598 - val_vel_loss: 0.0238 - val_time_loss: 0.0063 - val_notes_binary_accuracy: 0.9151 - val_notes_precision: 0.6208 - val_notes_recall: 0.7563 - val_notes_precision_at_recall_3: 0.6725\n",
            "Epoch 51/52\n",
            "125/125 [==============================] - 179s 1s/step - loss: 0.3191 - notes_loss: 0.2867 - vel_loss: 0.0233 - time_loss: 0.0090 - notes_binary_accuracy: 0.9260 - notes_precision: 0.6181 - notes_recall: 0.7929 - notes_precision_at_recall_3: 0.7097 - val_loss: 0.3896 - val_notes_loss: 0.3596 - val_vel_loss: 0.0237 - val_time_loss: 0.0063 - val_notes_binary_accuracy: 0.9149 - val_notes_precision: 0.6199 - val_notes_recall: 0.7572 - val_notes_precision_at_recall_3: 0.6719\n",
            "Epoch 52/52\n",
            "125/125 [==============================] - 197s 2s/step - loss: 0.3215 - notes_loss: 0.2890 - vel_loss: 0.0235 - time_loss: 0.0090 - notes_binary_accuracy: 0.9253 - notes_precision: 0.6166 - notes_recall: 0.7921 - notes_precision_at_recall_3: 0.7092 - val_loss: 0.3892 - val_notes_loss: 0.3592 - val_vel_loss: 0.0237 - val_time_loss: 0.0063 - val_notes_binary_accuracy: 0.9151 - val_notes_precision: 0.6214 - val_notes_recall: 0.7548 - val_notes_precision_at_recall_3: 0.6748\n",
            "\ttraining part 5:\n",
            "Epoch 52/61\n",
            "125/125 [==============================] - 218s 2s/step - loss: 0.3273 - notes_loss: 0.2948 - vel_loss: 0.0237 - time_loss: 0.0089 - notes_binary_accuracy: 0.9242 - notes_precision: 0.6110 - notes_recall: 0.7854 - notes_precision_at_recall_4: 0.6968 - val_loss: 0.3828 - val_notes_loss: 0.3537 - val_vel_loss: 0.0228 - val_time_loss: 0.0062 - val_notes_binary_accuracy: 0.9162 - val_notes_precision: 0.6261 - val_notes_recall: 0.7539 - val_notes_precision_at_recall_4: 0.6793\n",
            "Epoch 53/61\n",
            "125/125 [==============================] - 197s 2s/step - loss: 0.3165 - notes_loss: 0.2860 - vel_loss: 0.0227 - time_loss: 0.0078 - notes_binary_accuracy: 0.9262 - notes_precision: 0.6223 - notes_recall: 0.7950 - notes_precision_at_recall_4: 0.7222 - val_loss: 0.3802 - val_notes_loss: 0.3515 - val_vel_loss: 0.0225 - val_time_loss: 0.0062 - val_notes_binary_accuracy: 0.9163 - val_notes_precision: 0.6255 - val_notes_recall: 0.7599 - val_notes_precision_at_recall_4: 0.6897\n",
            "Epoch 54/61\n",
            "125/125 [==============================] - 198s 2s/step - loss: 0.3107 - notes_loss: 0.2810 - vel_loss: 0.0221 - time_loss: 0.0076 - notes_binary_accuracy: 0.9281 - notes_precision: 0.6270 - notes_recall: 0.7977 - notes_precision_at_recall_4: 0.7285 - val_loss: 0.3786 - val_notes_loss: 0.3502 - val_vel_loss: 0.0222 - val_time_loss: 0.0062 - val_notes_binary_accuracy: 0.9155 - val_notes_precision: 0.6217 - val_notes_recall: 0.7609 - val_notes_precision_at_recall_4: 0.6882\n",
            "Epoch 55/61\n",
            "125/125 [==============================] - 197s 2s/step - loss: 0.3083 - notes_loss: 0.2791 - vel_loss: 0.0218 - time_loss: 0.0074 - notes_binary_accuracy: 0.9283 - notes_precision: 0.6282 - notes_recall: 0.7991 - notes_precision_at_recall_4: 0.7322 - val_loss: 0.3776 - val_notes_loss: 0.3493 - val_vel_loss: 0.0221 - val_time_loss: 0.0062 - val_notes_binary_accuracy: 0.9156 - val_notes_precision: 0.6222 - val_notes_recall: 0.7613 - val_notes_precision_at_recall_4: 0.6876\n",
            "Epoch 56/61\n",
            "125/125 [==============================] - 198s 2s/step - loss: 0.3043 - notes_loss: 0.2754 - vel_loss: 0.0216 - time_loss: 0.0073 - notes_binary_accuracy: 0.9294 - notes_precision: 0.6302 - notes_recall: 0.8017 - notes_precision_at_recall_4: 0.7359 - val_loss: 0.3764 - val_notes_loss: 0.3483 - val_vel_loss: 0.0219 - val_time_loss: 0.0061 - val_notes_binary_accuracy: 0.9168 - val_notes_precision: 0.6280 - val_notes_recall: 0.7582 - val_notes_precision_at_recall_4: 0.6889\n",
            "Epoch 57/61\n",
            "125/125 [==============================] - 197s 2s/step - loss: 0.3063 - notes_loss: 0.2774 - vel_loss: 0.0217 - time_loss: 0.0072 - notes_binary_accuracy: 0.9290 - notes_precision: 0.6310 - notes_recall: 0.8008 - notes_precision_at_recall_4: 0.7362 - val_loss: 0.3757 - val_notes_loss: 0.3478 - val_vel_loss: 0.0218 - val_time_loss: 0.0061 - val_notes_binary_accuracy: 0.9167 - val_notes_precision: 0.6273 - val_notes_recall: 0.7597 - val_notes_precision_at_recall_4: 0.6881\n",
            "Epoch 58/61\n",
            "125/125 [==============================] - 179s 1s/step - loss: 0.3039 - notes_loss: 0.2752 - vel_loss: 0.0216 - time_loss: 0.0071 - notes_binary_accuracy: 0.9297 - notes_precision: 0.6346 - notes_recall: 0.8024 - notes_precision_at_recall_4: 0.7411 - val_loss: 0.3747 - val_notes_loss: 0.3469 - val_vel_loss: 0.0217 - val_time_loss: 0.0061 - val_notes_binary_accuracy: 0.9172 - val_notes_precision: 0.6298 - val_notes_recall: 0.7582 - val_notes_precision_at_recall_4: 0.6907\n",
            "Epoch 59/61\n",
            "125/125 [==============================] - 198s 2s/step - loss: 0.3029 - notes_loss: 0.2746 - vel_loss: 0.0212 - time_loss: 0.0071 - notes_binary_accuracy: 0.9300 - notes_precision: 0.6380 - notes_recall: 0.8045 - notes_precision_at_recall_4: 0.7461 - val_loss: 0.3747 - val_notes_loss: 0.3470 - val_vel_loss: 0.0216 - val_time_loss: 0.0061 - val_notes_binary_accuracy: 0.9175 - val_notes_precision: 0.6309 - val_notes_recall: 0.7585 - val_notes_precision_at_recall_4: 0.6915\n",
            "Epoch 60/61\n",
            "125/125 [==============================] - 179s 1s/step - loss: 0.2993 - notes_loss: 0.2712 - vel_loss: 0.0211 - time_loss: 0.0070 - notes_binary_accuracy: 0.9311 - notes_precision: 0.6383 - notes_recall: 0.8043 - notes_precision_at_recall_4: 0.7474 - val_loss: 0.3742 - val_notes_loss: 0.3466 - val_vel_loss: 0.0215 - val_time_loss: 0.0061 - val_notes_binary_accuracy: 0.9173 - val_notes_precision: 0.6297 - val_notes_recall: 0.7603 - val_notes_precision_at_recall_4: 0.6904\n",
            "Epoch 61/61\n",
            "125/125 [==============================] - 179s 1s/step - loss: 0.3062 - notes_loss: 0.2779 - vel_loss: 0.0214 - time_loss: 0.0070 - notes_binary_accuracy: 0.9287 - notes_precision: 0.6315 - notes_recall: 0.7999 - notes_precision_at_recall_4: 0.7352 - val_loss: 0.3736 - val_notes_loss: 0.3461 - val_vel_loss: 0.0215 - val_time_loss: 0.0061 - val_notes_binary_accuracy: 0.9176 - val_notes_precision: 0.6311 - val_notes_recall: 0.7595 - val_notes_precision_at_recall_4: 0.6919\n",
            "\ttraining part 6:\n",
            "Epoch 61/65\n"
          ],
          "name": "stdout"
        }
      ]
    },
    {
      "cell_type": "code",
      "metadata": {
        "colab": {
          "base_uri": "https://localhost:8080/"
        },
        "id": "wqlJfu7obujP",
        "outputId": "d2d90856-08d6-4a5a-99f7-0c67f4ffe5c3"
      },
      "source": [
        "\"\"\" deuxième partie de l'entraînement, l'ordi s'était arrêté,\n",
        "    j'ai du écrire un bout de code pour reprendre où le modèle s'était arrété.\"\"\"\n",
        "\n",
        "#creating a schedule to resume where i left off\n",
        "schedule=[\n",
        "    [range(10,19),5,1e-4], #encoder active, 5 epochs\n",
        "    [range(14,19),5,1e-4], #up to middle active, 5 epochs\n",
        "    [[],50,1e-4] #full model, 50 epochs, lower lr \n",
        "]\n",
        "#125 epochs total\n",
        "#custom training loop:\n",
        "curr_epoch=61\n",
        "for idx in range(len(schedule)):\n",
        "    print(f'\\ttraining part {idx+1+5}:')\n",
        "    apply_schedule(idx)\n",
        "    call_compile(schedule[idx][2])\n",
        "    call_fit(curr_epoch,curr_epoch+schedule[idx][1])\n",
        "    curr_epoch=ep_tracker #incrementing curr epoch \n",
        "\n",
        "\"\"\"comme on peut le voir sur la sortie de la cellule, le modèle s'est automatiquement arrêté après 78 epochs,\n",
        "    c'est le Callback \"Early stopping\" qui régit cela, \n",
        "    grâce à lui l'entraînement s'arrête dès qu'il y a stagnation de l'erreur ou des indicateurs de performances\n",
        "    \"\"\""
      ],
      "execution_count": null,
      "outputs": [
        {
          "output_type": "stream",
          "text": [
            "\ttraining part 6:\n",
            "Epoch 62/66\n",
            "117/117 [==============================] - 295s 2s/step - loss: 0.2989 - notes_loss: 0.2705 - vel_loss: 0.0214 - time_loss: 0.0069 - notes_binary_accuracy: 0.9310 - notes_precision: 0.6354 - notes_recall: 0.8009 - notes_precision_at_recall: 0.7419 - val_loss: 0.3688 - val_notes_loss: 0.3424 - val_vel_loss: 0.0209 - val_time_loss: 0.0054 - val_notes_binary_accuracy: 0.9185 - val_notes_precision: 0.6411 - val_notes_recall: 0.7754 - val_notes_precision_at_recall: 0.7187\n",
            "Epoch 63/66\n",
            "117/117 [==============================] - 224s 2s/step - loss: 0.2971 - notes_loss: 0.2690 - vel_loss: 0.0213 - time_loss: 0.0069 - notes_binary_accuracy: 0.9311 - notes_precision: 0.6350 - notes_recall: 0.8015 - notes_precision_at_recall: 0.7421 - val_loss: 0.3690 - val_notes_loss: 0.3426 - val_vel_loss: 0.0210 - val_time_loss: 0.0054 - val_notes_binary_accuracy: 0.9185 - val_notes_precision: 0.6413 - val_notes_recall: 0.7749 - val_notes_precision_at_recall: 0.7185\n",
            "Epoch 64/66\n",
            "117/117 [==============================] - 238s 2s/step - loss: 0.2969 - notes_loss: 0.2687 - vel_loss: 0.0214 - time_loss: 0.0069 - notes_binary_accuracy: 0.9314 - notes_precision: 0.6370 - notes_recall: 0.8026 - notes_precision_at_recall: 0.7444 - val_loss: 0.3689 - val_notes_loss: 0.3425 - val_vel_loss: 0.0210 - val_time_loss: 0.0054 - val_notes_binary_accuracy: 0.9181 - val_notes_precision: 0.6394 - val_notes_recall: 0.7767 - val_notes_precision_at_recall: 0.7171\n",
            "Epoch 65/66\n",
            "117/117 [==============================] - 239s 2s/step - loss: 0.2967 - notes_loss: 0.2686 - vel_loss: 0.0212 - time_loss: 0.0069 - notes_binary_accuracy: 0.9309 - notes_precision: 0.6328 - notes_recall: 0.8018 - notes_precision_at_recall: 0.7387 - val_loss: 0.3689 - val_notes_loss: 0.3425 - val_vel_loss: 0.0210 - val_time_loss: 0.0054 - val_notes_binary_accuracy: 0.9182 - val_notes_precision: 0.6395 - val_notes_recall: 0.7769 - val_notes_precision_at_recall: 0.7172\n",
            "Epoch 66/66\n",
            "117/117 [==============================] - 223s 2s/step - loss: 0.2919 - notes_loss: 0.2638 - vel_loss: 0.0212 - time_loss: 0.0069 - notes_binary_accuracy: 0.9326 - notes_precision: 0.6393 - notes_recall: 0.8059 - notes_precision_at_recall: 0.7496 - val_loss: 0.3693 - val_notes_loss: 0.3429 - val_vel_loss: 0.0210 - val_time_loss: 0.0054 - val_notes_binary_accuracy: 0.9181 - val_notes_precision: 0.6396 - val_notes_recall: 0.7761 - val_notes_precision_at_recall: 0.7172\n",
            "\ttraining part 7:\n",
            "Epoch 66/70\n",
            "117/117 [==============================] - 254s 2s/step - loss: 0.2982 - notes_loss: 0.2701 - vel_loss: 0.0212 - time_loss: 0.0068 - notes_binary_accuracy: 0.9308 - notes_precision: 0.6324 - notes_recall: 0.8003 - notes_notes_precision_at_recall: 0.7297 - val_loss: 0.3693 - val_notes_loss: 0.3429 - val_vel_loss: 0.0210 - val_time_loss: 0.0054 - val_notes_binary_accuracy: 0.9179 - val_notes_precision: 0.6386 - val_notes_recall: 0.7770 - val_notes_notes_precision_at_recall: 0.7162\n",
            "Epoch 67/70\n",
            "117/117 [==============================] - 236s 2s/step - loss: 0.2922 - notes_loss: 0.2642 - vel_loss: 0.0212 - time_loss: 0.0068 - notes_binary_accuracy: 0.9323 - notes_precision: 0.6393 - notes_recall: 0.8067 - notes_notes_precision_at_recall: 0.7518 - val_loss: 0.3695 - val_notes_loss: 0.3431 - val_vel_loss: 0.0210 - val_time_loss: 0.0054 - val_notes_binary_accuracy: 0.9181 - val_notes_precision: 0.6396 - val_notes_recall: 0.7761 - val_notes_notes_precision_at_recall: 0.7173\n",
            "Epoch 68/70\n",
            "117/117 [==============================] - 236s 2s/step - loss: 0.2928 - notes_loss: 0.2647 - vel_loss: 0.0212 - time_loss: 0.0069 - notes_binary_accuracy: 0.9320 - notes_precision: 0.6340 - notes_recall: 0.8020 - notes_notes_precision_at_recall: 0.7393 - val_loss: 0.3695 - val_notes_loss: 0.3431 - val_vel_loss: 0.0210 - val_time_loss: 0.0054 - val_notes_binary_accuracy: 0.9179 - val_notes_precision: 0.6384 - val_notes_recall: 0.7767 - val_notes_notes_precision_at_recall: 0.7162\n",
            "Epoch 69/70\n",
            "117/117 [==============================] - 221s 2s/step - loss: 0.2948 - notes_loss: 0.2667 - vel_loss: 0.0213 - time_loss: 0.0069 - notes_binary_accuracy: 0.9317 - notes_precision: 0.6372 - notes_recall: 0.8048 - notes_notes_precision_at_recall: 0.7463 - val_loss: 0.3693 - val_notes_loss: 0.3430 - val_vel_loss: 0.0210 - val_time_loss: 0.0054 - val_notes_binary_accuracy: 0.9179 - val_notes_precision: 0.6383 - val_notes_recall: 0.7769 - val_notes_notes_precision_at_recall: 0.7162\n",
            "Epoch 70/70\n",
            "117/117 [==============================] - 236s 2s/step - loss: 0.2970 - notes_loss: 0.2687 - vel_loss: 0.0214 - time_loss: 0.0069 - notes_binary_accuracy: 0.9311 - notes_precision: 0.6344 - notes_recall: 0.8031 - notes_notes_precision_at_recall: 0.7417 - val_loss: 0.3694 - val_notes_loss: 0.3430 - val_vel_loss: 0.0210 - val_time_loss: 0.0054 - val_notes_binary_accuracy: 0.9180 - val_notes_precision: 0.6389 - val_notes_recall: 0.7764 - val_notes_notes_precision_at_recall: 0.7169\n",
            "\ttraining part 8:\n",
            "Epoch 70/119\n",
            "117/117 [==============================] - 274s 2s/step - loss: 0.2948 - notes_loss: 0.2666 - vel_loss: 0.0213 - time_loss: 0.0069 - notes_binary_accuracy: 0.9315 - notes_precision: 0.6363 - notes_recall: 0.8048 - notes_notes_notes_precision_at_recall: 0.7320 - val_loss: 0.3696 - val_notes_loss: 0.3432 - val_vel_loss: 0.0210 - val_time_loss: 0.0054 - val_notes_binary_accuracy: 0.9179 - val_notes_precision: 0.6383 - val_notes_recall: 0.7766 - val_notes_notes_notes_precision_at_recall: 0.7164\n",
            "Epoch 71/119\n",
            "117/117 [==============================] - 237s 2s/step - loss: 0.2956 - notes_loss: 0.2675 - vel_loss: 0.0211 - time_loss: 0.0070 - notes_binary_accuracy: 0.9311 - notes_precision: 0.6351 - notes_recall: 0.8048 - notes_notes_notes_precision_at_recall: 0.7432 - val_loss: 0.3697 - val_notes_loss: 0.3433 - val_vel_loss: 0.0210 - val_time_loss: 0.0054 - val_notes_binary_accuracy: 0.9176 - val_notes_precision: 0.6370 - val_notes_recall: 0.7774 - val_notes_notes_notes_precision_at_recall: 0.7148\n",
            "Epoch 72/119\n",
            "117/117 [==============================] - 240s 2s/step - loss: 0.2915 - notes_loss: 0.2636 - vel_loss: 0.0210 - time_loss: 0.0069 - notes_binary_accuracy: 0.9324 - notes_precision: 0.6345 - notes_recall: 0.8050 - notes_notes_notes_precision_at_recall: 0.7429 - val_loss: 0.3700 - val_notes_loss: 0.3436 - val_vel_loss: 0.0210 - val_time_loss: 0.0054 - val_notes_binary_accuracy: 0.9179 - val_notes_precision: 0.6384 - val_notes_recall: 0.7764 - val_notes_notes_notes_precision_at_recall: 0.7158\n",
            "Epoch 73/119\n",
            "117/117 [==============================] - 240s 2s/step - loss: 0.2975 - notes_loss: 0.2691 - vel_loss: 0.0215 - time_loss: 0.0069 - notes_binary_accuracy: 0.9307 - notes_precision: 0.6342 - notes_recall: 0.8042 - notes_notes_notes_precision_at_recall: 0.7411 - val_loss: 0.3700 - val_notes_loss: 0.3435 - val_vel_loss: 0.0210 - val_time_loss: 0.0054 - val_notes_binary_accuracy: 0.9179 - val_notes_precision: 0.6384 - val_notes_recall: 0.7762 - val_notes_notes_notes_precision_at_recall: 0.7159\n",
            "Epoch 74/119\n",
            "117/117 [==============================] - 239s 2s/step - loss: 0.2924 - notes_loss: 0.2644 - vel_loss: 0.0211 - time_loss: 0.0069 - notes_binary_accuracy: 0.9321 - notes_precision: 0.6350 - notes_recall: 0.8042 - notes_notes_notes_precision_at_recall: 0.7444 - val_loss: 0.3700 - val_notes_loss: 0.3436 - val_vel_loss: 0.0210 - val_time_loss: 0.0054 - val_notes_binary_accuracy: 0.9178 - val_notes_precision: 0.6381 - val_notes_recall: 0.7762 - val_notes_notes_notes_precision_at_recall: 0.7159\n",
            "Epoch 75/119\n",
            "117/117 [==============================] - 239s 2s/step - loss: 0.2924 - notes_loss: 0.2643 - vel_loss: 0.0212 - time_loss: 0.0069 - notes_binary_accuracy: 0.9322 - notes_precision: 0.6373 - notes_recall: 0.8067 - notes_notes_notes_precision_at_recall: 0.7480 - val_loss: 0.3700 - val_notes_loss: 0.3435 - val_vel_loss: 0.0210 - val_time_loss: 0.0054 - val_notes_binary_accuracy: 0.9178 - val_notes_precision: 0.6380 - val_notes_recall: 0.7764 - val_notes_notes_notes_precision_at_recall: 0.7156\n",
            "Epoch 76/119\n",
            "117/117 [==============================] - 239s 2s/step - loss: 0.2975 - notes_loss: 0.2689 - vel_loss: 0.0217 - time_loss: 0.0069 - notes_binary_accuracy: 0.9306 - notes_precision: 0.6307 - notes_recall: 0.8015 - notes_notes_notes_precision_at_recall: 0.7361 - val_loss: 0.3701 - val_notes_loss: 0.3437 - val_vel_loss: 0.0210 - val_time_loss: 0.0054 - val_notes_binary_accuracy: 0.9178 - val_notes_precision: 0.6382 - val_notes_recall: 0.7764 - val_notes_notes_notes_precision_at_recall: 0.7155\n",
            "\n",
            "Epoch 00076: ReduceLROnPlateau reducing learning rate to 2.499999936844688e-05.\n",
            "Epoch 77/119\n",
            "117/117 [==============================] - 239s 2s/step - loss: 0.2951 - notes_loss: 0.2669 - vel_loss: 0.0213 - time_loss: 0.0069 - notes_binary_accuracy: 0.9314 - notes_precision: 0.6338 - notes_recall: 0.8030 - notes_notes_notes_precision_at_recall: 0.7405 - val_loss: 0.3700 - val_notes_loss: 0.3436 - val_vel_loss: 0.0210 - val_time_loss: 0.0054 - val_notes_binary_accuracy: 0.9177 - val_notes_precision: 0.6377 - val_notes_recall: 0.7767 - val_notes_notes_notes_precision_at_recall: 0.7154\n",
            "Epoch 78/119\n",
            "117/117 [==============================] - 239s 2s/step - loss: 0.2934 - notes_loss: 0.2653 - vel_loss: 0.0213 - time_loss: 0.0069 - notes_binary_accuracy: 0.9319 - notes_precision: 0.6381 - notes_recall: 0.8075 - notes_notes_notes_precision_at_recall: 0.7499 - val_loss: 0.3700 - val_notes_loss: 0.3436 - val_vel_loss: 0.0210 - val_time_loss: 0.0054 - val_notes_binary_accuracy: 0.9177 - val_notes_precision: 0.6377 - val_notes_recall: 0.7765 - val_notes_notes_notes_precision_at_recall: 0.7155\n",
            "Restoring model weights from the end of the best epoch.\n",
            "Epoch 00078: early stopping\n"
          ],
          "name": "stdout"
        }
      ]
    },
    {
      "cell_type": "markdown",
      "metadata": {
        "id": "jr-RZBookfbl"
      },
      "source": [
        "## Plotting results (Histograms)"
      ]
    },
    {
      "cell_type": "code",
      "metadata": {
        "id": "7s4EnW1ArOKh"
      },
      "source": [
        "# on peut observer et analyser l'entraînemnt du modèle avec l'extension TensorBoard de TensorFlow\n",
        "    #(au moyen de ces 2 lignes de codes et du callback TensorBoard intégré)\n",
        "# ou bien avec les 2 fonctions que j'ai crées plus bas, \n",
        "# l'une crée des \"density plots\" ou \"KDE plots\" pour chaque instrument (c'est comme des histogrammes plus jolis)\n",
        "    # [c'est l'amélioration de la deuxième fonction, que j'avais écrite plus tôt ]\n",
        "# l'autre crée un \"density plot\" de tous les insruments réunis (pour le premier batch uniquement) \n",
        "\n",
        "%load_ext tensorboard\n",
        "%tensorboard --logdir /content/drive/MyDrive/TM/jupyter/TensorBoard/logs"
      ],
      "execution_count": null,
      "outputs": []
    },
    {
      "cell_type": "code",
      "metadata": {
        "id": "UniNDT6bdxf6"
      },
      "source": [
        "import random as r\n",
        "def plot_instruments(batch=None):\n",
        "    if batch is not None:\n",
        "        n=batch\n",
        "    else:\n",
        "        n = r.randint(0,(val_inputs[0].shape[0]/batch_size)-1)\n",
        "    print(f'batch number {n}\\n')\n",
        "    notes,vel,time = model.predict([arr[n*batch_size:(n+1)*batch_size] for arr in val_inputs])\n",
        "    instruments=['kick','snare','hi-hat closed','hi-hat open','tom3','tom2','tom1','ride','crash']\n",
        "    for instr,name in enumerate(instruments):\n",
        "        print(name)\n",
        "        array_pred = notes[:,:,instr].flatten() # shape: 128*128*9\n",
        "        array_true = val_targets[0][n*batch_size:(n+1)*batch_size,:,instr].flatten()\n",
        "\n",
        "        positives=[]\n",
        "        negatives=[]\n",
        "        for i,val in enumerate(array_pred):\n",
        "            if array_true[i]==1:\n",
        "                positives.append(val)\n",
        "            else:\n",
        "                negatives.append(val)\n",
        "        #fig,ax = plt.subplots()\n",
        "        sns.histplot(positives,kde=True,color='blue',fill=False,)\n",
        "        sns.histplot(negatives,kde=True,color='red',fill=False)\n",
        "        plt.legend(('positives','negatives'))\n",
        "        plt.plot()\n",
        "        plt.show()"
      ],
      "execution_count": null,
      "outputs": []
    },
    {
      "cell_type": "code",
      "metadata": {
        "id": "ESLezrtakA0M"
      },
      "source": [
        "def plot_values():\n",
        "    notes,vel,time = model.predict([arr[:batch_size] for arr in val_inputs])\n",
        "\n",
        "    array_pred = notes.flatten() # shape: 128*128*9\n",
        "    array_true = val_targets[0][:batch_size].flatten()\n",
        "    \n",
        "    positives=[]\n",
        "    negatives=[]\n",
        "    for i,val in enumerate(array_pred):\n",
        "        if array_true[i]==1:\n",
        "            positives.append(val)\n",
        "        else:\n",
        "            negatives.append(val)\n",
        "    sns.kdeplot(positives,shade=True,legend=True)\n",
        "    sns.kdeplot(negatives,shade=True,legend=True)\n",
        "    plt.legend(('positives','negatives'))\n",
        "    plt.plot()\n",
        "    plt.show()"
      ],
      "execution_count": null,
      "outputs": []
    }
  ]
}